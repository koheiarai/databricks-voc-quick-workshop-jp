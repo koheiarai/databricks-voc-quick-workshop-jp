{
 "cells": [
  {
   "cell_type": "code",
   "execution_count": 0,
   "metadata": {
    "application/vnd.databricks.v1+cell": {
     "cellMetadata": {},
     "inputWidgets": {},
     "nuid": "8da18688-62f1-472d-b424-f760df1545df",
     "showTitle": false,
     "tableResultSettingsMap": {},
     "title": ""
    }
   },
   "outputs": [],
   "source": [
    "CREATE OR REPLACE TABLE calls_log_silver AS\n",
    "SELECT\n",
    "  `comment-body` AS comment_body,\n",
    "  ai_query(\n",
    "    \"databricks-meta-llama-3-3-70b-instruct\",\n",
    "    \"貴方はプロの日本語要約家です。文章を日本語で100文字程度に要約してください。時制は過去形で返してください。\" || `comment-body`\n",
    "  ) AS summary\n",
    "FROM\n",
    "  calls_log;"
   ]
  }
 ],
 "metadata": {
  "application/vnd.databricks.v1+notebook": {
   "computePreferences": null,
   "dashboards": [],
   "environmentMetadata": null,
   "inputWidgetPreferences": null,
   "language": "sql",
   "notebookMetadata": {
    "pythonIndentUnit": 2,
    "sqlQueryOptions": {
     "applyAutoLimit": true,
     "catalog": "suda_test_catalog",
     "schema": "default"
    }
   },
   "notebookName": "summarize.dbquery.ipynb",
   "widgets": {}
  },
  "language_info": {
   "name": "sql"
  }
 },
 "nbformat": 4,
 "nbformat_minor": 0
}
