{
 "cells": [
  {
   "cell_type": "code",
   "execution_count": 0,
   "metadata": {
    "application/vnd.databricks.v1+cell": {
     "cellMetadata": {
      "byteLimit": 2048000,
      "rowLimit": 10000
     },
     "inputWidgets": {},
     "nuid": "c5ab0a1b-7237-462f-8206-05e88b38972d",
     "showTitle": false,
     "tableResultSettingsMap": {},
     "title": ""
    }
   },
   "outputs": [],
   "source": [
    "!pip install umap-learn numpy hdbscan bertopic langchain databricks-sdk[openai]"
   ]
  },
  {
   "cell_type": "code",
   "execution_count": 0,
   "metadata": {
    "application/vnd.databricks.v1+cell": {
     "cellMetadata": {
      "byteLimit": 2048000,
      "rowLimit": 10000
     },
     "inputWidgets": {},
     "nuid": "721eef50-6740-4944-8303-c5d656428b96",
     "showTitle": false,
     "tableResultSettingsMap": {},
     "title": ""
    }
   },
   "outputs": [],
   "source": [
    "import numpy as np\n",
    "\n",
    "CATALOG = \"kohei_arai\"\n",
    "SCHEMA = \"demo\"\n",
    "WRITEBACK_TABLE = \"calls_log_silver_index_writeback_table\"\n",
    "PLOT_TABLE = \"calls_log_plot_table\"\n",
    "LABELS_TABLE = \"calls_log_labels_table\"\n",
    "GOLD_TABLE = \"calls_log_gold\""
   ]
  },
  {
   "cell_type": "code",
   "execution_count": 0,
   "metadata": {
    "application/vnd.databricks.v1+cell": {
     "cellMetadata": {
      "byteLimit": 2048000,
      "rowLimit": 10000
     },
     "inputWidgets": {},
     "nuid": "f714fa18-0149-4b83-b5a5-9ddf90ef760c",
     "showTitle": false,
     "tableResultSettingsMap": {},
     "title": ""
    }
   },
   "outputs": [],
   "source": [
    "plotDF = spark.table(f\"{CATALOG}.{SCHEMA}.{PLOT_TABLE}\")\n",
    "plot_df = plotDF.toPandas()\n",
    "display(plot_df)"
   ]
  },
  {
   "cell_type": "code",
   "execution_count": 0,
   "metadata": {
    "application/vnd.databricks.v1+cell": {
     "cellMetadata": {
      "byteLimit": 2048000,
      "rowLimit": 10000
     },
     "inputWidgets": {},
     "nuid": "2ad2ecdb-fd3a-422e-83fe-a3c25245bb93",
     "showTitle": false,
     "tableResultSettingsMap": {},
     "title": ""
    }
   },
   "outputs": [],
   "source": [
    "# Install the required packages\n",
    "# %pip install databricks-sdk[openai] mlflow\n",
    "\n",
    "from tqdm import tqdm\n",
    "import numpy as np\n",
    "import pandas as pd\n",
    "from databricks.sdk import WorkspaceClient\n",
    "\n",
    "def labelling(config, plot_df):\n",
    "\n",
    "    results = pd.DataFrame()\n",
    "\n",
    "    sample_size = config['labelling']['sample_size']\n",
    "    prompt = config['labelling']['prompt']\n",
    "    model = config['labelling']['model']\n",
    "\n",
    "    question = config['question']\n",
    "    cluster_ids = plot_df['cluster'].unique()\n",
    "\n",
    "    for _, cluster_id in tqdm(enumerate(cluster_ids), total=len(cluster_ids)):\n",
    "        args_sample = plot_df[plot_df['cluster'] == cluster_id]['text'].values\n",
    "        args_sample = np.random.choice(args_sample, size=min(len(args_sample), sample_size), replace=False)\n",
    "\n",
    "        args_sample_outside = plot_df[plot_df['cluster'] != cluster_id]['text'].values\n",
    "        args_sample_outside = np.random.choice(args_sample_outside, size=min(len(args_sample_outside), sample_size), replace=False)\n",
    "\n",
    "        label = generate_label(question, args_sample, args_sample_outside, prompt, model)\n",
    "        results = pd.concat([results, pd.DataFrame([{'cluster-id': cluster_id, 'label': label}])], ignore_index=True)\n",
    "\n",
    "    return results\n",
    "\n",
    "def generate_label(question, args_sample, args_sample_outside, prompt, model):\n",
    "    w = WorkspaceClient()\n",
    "    llm = w.serving_endpoints.get_open_ai_client()\n",
    "    outside = '\\n * ' + '\\n * '.join(args_sample_outside)\n",
    "    inside = '\\n * ' + '\\n * '.join(args_sample)\n",
    "    input_text = f\"Question of the consultation: {question}\\n\\n\" + \\\n",
    "                 f\"Examples of arguments OUTSIDE the cluster:\\n{outside}\\n\\n\" + \\\n",
    "                 f\"Examples of arguments INSIDE the cluster:\\n{inside}\"\n",
    "    response = llm.chat.completions.create(\n",
    "        messages=[{\"role\": \"system\", \"content\": prompt}, {\"role\": \"user\", \"content\": input_text}],\n",
    "        model=model,\n",
    "        max_tokens=256\n",
    "    )\n",
    "    return response.choices[0].message.content.strip()\n",
    "\n",
    "# Config example\n",
    "config = {\n",
    "    'output_dir': 'your_output_directory',\n",
    "    'labelling': {\n",
    "        'sample_size': 5,\n",
    "        'prompt':  \"\"\"あなたは、コンサルテーションの議論を分類するラベリングアシスタントです。ある議論のまとまり（クラスター）に対して、その内容を端的に表すラベルを1つ作成してください。クラスターの主な話題、関連する問い合わせのリスト、関係ない問い合わせのリストが与えられます。ラベルは以下のルールに従ってください：\n",
    "        ・質問からすでに明らかな文脈は含めない\n",
    "        ・「〜に関すること」「〜についての問い合わせ」「〜を行う」といった表現は使わない\n",
    "        ・名詞で終わるのではなく、「〜の変更」「〜の依頼」など動詞を体言止めで終える\n",
    "        ・簡潔であること\n",
    "        ・クラスター内と外の問い合わせを正しく区別できるよう、十分な正確さをもつこと\n",
    "回答はラベルのみを返してください。\"\"\",\n",
    "        'model': 'databricks-meta-llama-3-3-70b-instruct'\n",
    "    },\n",
    "    'question': 'これらの問い合わせの主なテーマは何か?'\n",
    "}\n",
    "\n",
    "# Run labelling\n",
    "res = labelling(config, plot_df)\n",
    "display(res)"
   ]
  },
  {
   "cell_type": "code",
   "execution_count": 0,
   "metadata": {
    "application/vnd.databricks.v1+cell": {
     "cellMetadata": {
      "byteLimit": 2048000,
      "rowLimit": 10000
     },
     "inputWidgets": {},
     "nuid": "48c8a6a3-803a-4ce6-a369-0af25c58376a",
     "showTitle": false,
     "tableResultSettingsMap": {},
     "title": ""
    }
   },
   "outputs": [],
   "source": [
    "spark.createDataFrame(res).write.mode(\"overwrite\").saveAsTable(\n",
    "    f\"{CATALOG}.{SCHEMA}.{LABELS_TABLE}\"\n",
    ")"
   ]
  },
  {
   "cell_type": "code",
   "execution_count": 0,
   "metadata": {
    "application/vnd.databricks.v1+cell": {
     "cellMetadata": {
      "byteLimit": 2048000,
      "implicitDf": true,
      "rowLimit": 10000
     },
     "inputWidgets": {},
     "nuid": "5938eb9e-fd8d-43b9-8b52-dd2a5b359f1d",
     "showTitle": false,
     "tableResultSettingsMap": {},
     "title": ""
    }
   },
   "outputs": [],
   "source": [
    "# Set the catalog and schema\n",
    "spark.sql(f\"USE CATALOG `{CATALOG}`\")\n",
    "spark.sql(f\"USE SCHEMA `{SCHEMA}`\")\n",
    "\n",
    "# Create or replace the gold table by joining plot and labels tables\n",
    "query = f\"\"\"\n",
    "CREATE OR REPLACE TABLE {GOLD_TABLE} AS \n",
    "SELECT\n",
    "  a.x,\n",
    "  a.y,\n",
    "  a.text,\n",
    "  b.label\n",
    "FROM\n",
    "  {PLOT_TABLE} a\n",
    "  LEFT JOIN {LABELS_TABLE} b \n",
    "  ON a.cluster = b.`cluster-id`\n",
    "\"\"\"\n",
    "\n",
    "spark.sql(query)"
   ]
  }
 ],
 "metadata": {
  "application/vnd.databricks.v1+notebook": {
   "computePreferences": {
    "hardware": {
     "accelerator": null,
     "gpuPoolId": null,
     "memory": "HIGH"
    }
   },
   "dashboards": [],
   "environmentMetadata": {
    "base_environment": "",
    "environment_version": "2"
   },
   "inputWidgetPreferences": null,
   "language": "python",
   "notebookMetadata": {
    "mostRecentlyExecutedCommandWithImplicitDF": {
     "commandId": -1,
     "dataframes": [
      "_sqldf"
     ]
    },
    "pythonIndentUnit": 2
   },
   "notebookName": "3. labelling",
   "widgets": {}
  },
  "language_info": {
   "name": "python"
  }
 },
 "nbformat": 4,
 "nbformat_minor": 0
}
