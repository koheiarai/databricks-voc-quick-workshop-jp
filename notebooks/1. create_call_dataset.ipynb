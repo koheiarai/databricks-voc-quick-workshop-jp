{
 "cells": [
  {
   "cell_type": "code",
   "execution_count": 0,
   "metadata": {
    "application/vnd.databricks.v1+cell": {
     "cellMetadata": {
      "byteLimit": 2048000,
      "rowLimit": 10000
     },
     "inputWidgets": {},
     "nuid": "f30891bb-2363-4824-b240-75d162d7efe2",
     "showTitle": true,
     "tableResultSettingsMap": {},
     "title": "Initialize Database Widgets for Catalog and Schema"
    }
   },
   "outputs": [],
   "source": [
    "CATALOG = \"kohei_arai\"\n",
    "SCHEMA = \"demo\"\n",
    "TABLE = \"calls_log\"\n",
    "\n",
    "# Create widgets for CATALOG and SCHEMA\n",
    "dbutils.widgets.text(\"CATALOG\", CATALOG)\n",
    "dbutils.widgets.text(\"SCHEMA\", SCHEMA)\n",
    "dbutils.widgets.text(\"TABLE\", TABLE)\n",
    "\n",
    "# Get the widget values\n",
    "catalog = dbutils.widgets.get(\"CATALOG\")\n",
    "schema = dbutils.widgets.get(\"SCHEMA\")\n",
    "table = dbutils.widgets.get(\"TABLE\")"
   ]
  },
  {
   "cell_type": "code",
   "execution_count": 0,
   "metadata": {
    "application/vnd.databricks.v1+cell": {
     "cellMetadata": {
      "byteLimit": 2048000,
      "rowLimit": 10000
     },
     "inputWidgets": {},
     "nuid": "f9992c56-3a18-4805-86cb-95bb7bcc0c2a",
     "showTitle": true,
     "tableResultSettingsMap": {},
     "title": "Add Random Categories to Spark DataFrame"
    }
   },
   "outputs": [],
   "source": [
    "from pyspark.sql.functions import col, lit, rand, floor, when\n",
    "\n",
    "# Create a DataFrame with 100 records\n",
    "df = spark.range(100).withColumnRenamed(\"id\", \"call_id\")\n",
    "\n",
    "# Define the categories\n",
    "categories = [\"契約内容の確認・変更\", \"料金や請求に関する確認\", \"解約や休止の申請・手続き\", \"個人情報の変更（住所・連絡先など）\", \"新規申し込みやサービス追加の依頼\"]\n",
    "\n",
    "# Add the category column with random values from the categories list\n",
    "df = df.withColumn(\n",
    "    \"category\",\n",
    "    when(floor(rand() * len(categories)) == 0, lit(categories[0]))\n",
    "    .when(floor(rand() * len(categories)) == 1, lit(categories[1]))\n",
    "    .when(floor(rand() * len(categories)) == 2, lit(categories[2]))\n",
    "    .when(floor(rand() * len(categories)) == 3, lit(categories[3]))\n",
    "    .otherwise(lit(categories[4]))\n",
    ")\n",
    "\n",
    "# Display the DataFrame\n",
    "df.createOrReplaceTempView(\"calls_id\")\n",
    "display(df)"
   ]
  },
  {
   "cell_type": "code",
   "execution_count": 0,
   "metadata": {
    "application/vnd.databricks.v1+cell": {
     "cellMetadata": {
      "byteLimit": 2048000,
      "implicitDf": true,
      "rowLimit": 10000
     },
     "inputWidgets": {},
     "nuid": "e6335fdf-03ff-4815-aa76-73b144c67ebe",
     "showTitle": true,
     "tableResultSettingsMap": {},
     "title": "Generate Llama Review Summaries by Call Category"
    }
   },
   "outputs": [],
   "source": [
    "# Create the SQL query using the widget values\n",
    "query = f\"\"\"\n",
    "CREATE OR REPLACE TABLE `{catalog}`.`{schema}`.`{table}`\n",
    "SELECT\n",
    "  call_id,\n",
    "  ai_query(\n",
    "    \"databricks-llama-4-maverick\",\n",
    "    \"貴方はコールセンターの会話に精通するプロフェッショナルです。カテゴリを加味して、コールセンターのやりとりを想定して会話を作成してください。call_idが違う場合は違う会話を想定してください。Call ID:\" || call_id || \"Category:\" || category\n",
    "  ) AS content\n",
    "FROM calls_id\n",
    "\"\"\"\n",
    "\n",
    "# Run the SQL query\n",
    "spark.sql(query)"
   ]
  }
 ],
 "metadata": {
  "application/vnd.databricks.v1+notebook": {
   "computePreferences": null,
   "dashboards": [],
   "environmentMetadata": {
    "base_environment": "",
    "environment_version": "2"
   },
   "inputWidgetPreferences": null,
   "language": "python",
   "notebookMetadata": {
    "mostRecentlyExecutedCommandWithImplicitDF": {
     "commandId": -1,
     "dataframes": [
      "_sqldf"
     ]
    },
    "pythonIndentUnit": 2
   },
   "notebookName": "1. create_call_dataset",
   "widgets": {
    "CATALOG": {
     "currentValue": "kohei_arai",
     "nuid": "aa5cb78f-634d-4273-9cf4-47a07455fc21",
     "typedWidgetInfo": {
      "autoCreated": false,
      "defaultValue": "kohei_arai",
      "label": null,
      "name": "CATALOG",
      "options": {
       "widgetDisplayType": "Text",
       "validationRegex": null
      },
      "parameterDataType": "String"
     },
     "widgetInfo": {
      "widgetType": "text",
      "defaultValue": "kohei_arai",
      "label": null,
      "name": "CATALOG",
      "options": {
       "widgetType": "text",
       "autoCreated": null,
       "validationRegex": null
      }
     }
    },
    "SCHEMA": {
     "currentValue": "demo",
     "nuid": "f99f7f36-f6bd-47e9-bf6c-498dc7ca7bd1",
     "typedWidgetInfo": {
      "autoCreated": false,
      "defaultValue": "demo",
      "label": null,
      "name": "SCHEMA",
      "options": {
       "widgetDisplayType": "Text",
       "validationRegex": null
      },
      "parameterDataType": "String"
     },
     "widgetInfo": {
      "widgetType": "text",
      "defaultValue": "demo",
      "label": null,
      "name": "SCHEMA",
      "options": {
       "widgetType": "text",
       "autoCreated": null,
       "validationRegex": null
      }
     }
    },
    "TABLE": {
     "currentValue": "calls_log",
     "nuid": "75e2924c-b30c-4101-85c4-611f31a9ce6b",
     "typedWidgetInfo": {
      "autoCreated": false,
      "defaultValue": "calls_log",
      "label": null,
      "name": "TABLE",
      "options": {
       "widgetDisplayType": "Text",
       "validationRegex": null
      },
      "parameterDataType": "String"
     },
     "widgetInfo": {
      "widgetType": "text",
      "defaultValue": "calls_log",
      "label": null,
      "name": "TABLE",
      "options": {
       "widgetType": "text",
       "autoCreated": null,
       "validationRegex": null
      }
     }
    }
   }
  },
  "language_info": {
   "name": "python"
  }
 },
 "nbformat": 4,
 "nbformat_minor": 0
}
